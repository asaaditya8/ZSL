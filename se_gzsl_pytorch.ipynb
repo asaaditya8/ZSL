{
 "cells": [
  {
   "cell_type": "code",
   "execution_count": 1,
   "metadata": {},
   "outputs": [],
   "source": [
    "import torch"
   ]
  },
  {
   "cell_type": "code",
   "execution_count": 2,
   "metadata": {},
   "outputs": [
    {
     "data": {
      "text/plain": [
       "'0.4.0'"
      ]
     },
     "execution_count": 2,
     "metadata": {},
     "output_type": "execute_result"
    }
   ],
   "source": [
    "torch.__version__"
   ]
  },
  {
   "cell_type": "code",
   "execution_count": 3,
   "metadata": {},
   "outputs": [],
   "source": [
    "from torch import nn, optim\n",
    "from torch.utils.data import DataLoader\n",
    "from torchvision import datasets, transforms, models\n",
    "import torch.nn.functional as F\n",
    "from itertools import chain\n",
    "from cub_data import *\n",
    "import pandas as pd\n",
    "from tqdm import tqdm"
   ]
  },
  {
   "cell_type": "code",
   "execution_count": 4,
   "metadata": {},
   "outputs": [],
   "source": [
    "%matplotlib inline"
   ]
  },
  {
   "cell_type": "code",
   "execution_count": 5,
   "metadata": {},
   "outputs": [],
   "source": [
    "device = torch.device('cpu')"
   ]
  },
  {
   "cell_type": "code",
   "execution_count": 6,
   "metadata": {},
   "outputs": [],
   "source": [
    "def to_var(x):\n",
    "#     if torch.cuda.is_available():\n",
    "#         x = x.cuda()\n",
    "    global device\n",
    "    return x.to(device)\n",
    "\n",
    "def idx2onehot(idx, n):\n",
    "\n",
    "    assert idx.size(1) == 1\n",
    "    assert torch.max(idx).data[0] < n\n",
    "\n",
    "    onehot = torch.zeros(idx.size(0), n)\n",
    "    onehot.scatter_(1, idx.data, 1)\n",
    "    onehot = to_var(onehot)\n",
    "    \n",
    "    return onehot"
   ]
  },
  {
   "cell_type": "markdown",
   "metadata": {},
   "source": [
    "MSE recon_loss is not good. I think because on training the svm with generated examples of 200 categories, it gave 100% acc on those examples and 32% acc on real training data.\n",
    "##### Try MAE\n",
    "##### Try Cosine\n",
    "##### Try changing latent size"
   ]
  },
  {
   "cell_type": "code",
   "execution_count": 7,
   "metadata": {},
   "outputs": [],
   "source": [
    "class VAE(nn.Module):\n",
    "\n",
    "    def __init__(self, encoder_layer_sizes, latent_size, decoder_layer_sizes, regressor_layer_sizes, attributes):\n",
    "\n",
    "        super().__init__()\n",
    "\n",
    "        assert type(encoder_layer_sizes) == list\n",
    "        assert type(latent_size) == int\n",
    "        assert type(decoder_layer_sizes) == list\n",
    "\n",
    "        self.latent_size = latent_size\n",
    "        self.num_labels = attributes.shape[0]\n",
    "        self.attribute_size = attributes.shape[1]\n",
    "        self.embeddings = nn.Embedding.from_pretrained(torch.FloatTensor(attributes))\n",
    "\n",
    "        \n",
    "        self.encoder = Encoder(encoder_layer_sizes, latent_size, self.num_labels)\n",
    "        self.decoder = Decoder(decoder_layer_sizes, latent_size, self.attribute_size, self.embeddings)\n",
    "        self.regressor = Regressor(regressor_layer_sizes, attributes)\n",
    "        \n",
    "        \"\"\"\n",
    "        Grouping the model's parameters: separating encoder, decoder, and discriminator\n",
    "        \"\"\"\n",
    "        self.encoder_params = chain(\n",
    "            self.encoder.parameters()\n",
    "        )\n",
    "\n",
    "        self.decoder_params = chain(\n",
    "            self.decoder.parameters()\n",
    "        )\n",
    "\n",
    "        self.vae_params = chain(\n",
    "            self.encoder_params, self.decoder_params\n",
    "        )\n",
    "        self.vae_params = filter(lambda p: p.requires_grad, self.vae_params)\n",
    "\n",
    "        self.regressor_params = filter(lambda p: p.requires_grad, self.regressor.parameters())\n",
    "        \n",
    "    def sample_z(self, mu, logvar):\n",
    "        \"\"\"\n",
    "        Reparameterization trick: z = mu + std*eps; eps ~ N(0, I)\n",
    "        \"\"\"\n",
    "        batch_size = mu.size(0)\n",
    "        eps = to_var(torch.randn([batch_size, self.latent_size]))\n",
    "        return mu + torch.exp(logvar/2) * eps\n",
    "\n",
    "    def sample_z_prior(self, bsize):\n",
    "        \"\"\"\n",
    "        Sample z ~ p(z) = N(0, I)\n",
    "        \"\"\"\n",
    "        z = to_var(torch.randn(bsize, self.latent_size))\n",
    "        return z\n",
    "\n",
    "    def sample_c_prior(self, bsize):\n",
    "        \"\"\"\n",
    "        Sample c ~ p(c) = Cat([0.5, 0.5])\n",
    "        \"\"\"\n",
    "        c = to_var(\n",
    "            torch.LongTensor(np.random.randint(0, self.num_labels, (bsize,1)))\n",
    "        )\n",
    "        return c\n",
    "\n",
    "    def forward(self, x, c=None):\n",
    "        \"\"\"\n",
    "        Params:\n",
    "        -------\n",
    "        c: whether to sample `c` from prior or use what is provided.\n",
    "        Returns:\n",
    "        --------\n",
    "        recon_loss: reconstruction loss of VAE.\n",
    "        kl_loss: KL-div loss of VAE.\n",
    "        \"\"\"\n",
    "        batch_size = x.size(0)\n",
    "\n",
    "        means, log_var = self.encoder(x)\n",
    "\n",
    "        z = self.sample_z(means, log_var)\n",
    "\n",
    "        if c is None:\n",
    "            c = self.sample_c_prior(batch_size)\n",
    "        \n",
    "        recon_x = self.decoder(z, c)\n",
    "        \n",
    "        recon_loss = F.l1_loss(recon_x, x, size_average=False)\n",
    "        kl_loss = torch.sum(0.5 * torch.sum(torch.exp(log_var) + means**2 - 1 - log_var, 1))\n",
    "\n",
    "        return recon_loss, kl_loss\n",
    "\n",
    "    def synthesize_examples(self, n=1):\n",
    "\n",
    "        batch_size = n\n",
    "        z = self.sample_z_prior(batch_size)\n",
    "        c = self.sample_c_prior(batch_size)\n",
    "        \n",
    "        recon_x = self.decoder(z, c)\n",
    "\n",
    "        return recon_x\n",
    "\n",
    "\n",
    "\n",
    "class Encoder(nn.Module):\n",
    "\n",
    "    def __init__(self, layer_sizes, latent_size, num_labels):\n",
    "\n",
    "        super().__init__()\n",
    "\n",
    "        self.MLP = nn.Sequential()\n",
    "\n",
    "        for i, (in_size, out_size) in enumerate( zip(layer_sizes[:-1], layer_sizes[1:]) ):\n",
    "            self.MLP.add_module(name=\"L%i\"%(i), module=nn.Linear(in_size, out_size))\n",
    "            self.MLP.add_module(name=\"A%i\"%(i), module=nn.ReLU())\n",
    "#             self.MLP.add_module(name=\"BN%i\"%(i), module=nn.BatchNorm1d(out_size))\n",
    "\n",
    "\n",
    "        self.linear_means = nn.Linear(layer_sizes[-1], latent_size)\n",
    "        self.linear_var = nn.Linear(layer_sizes[-1], latent_size)\n",
    "\n",
    "    def forward(self, x):\n",
    "\n",
    "        x = self.MLP(x)\n",
    "\n",
    "        means = self.linear_means(x)\n",
    "        log_vars = torch.log(F.softplus(self.linear_var(x)))\n",
    "#         log_vars = self.linear_var(x)\n",
    "\n",
    "        return means, log_vars\n",
    "\n",
    "\n",
    "class Decoder(nn.Module):\n",
    "\n",
    "    def __init__(self, layer_sizes, latent_size, attribute_size, embeddings):\n",
    "\n",
    "        super().__init__()\n",
    "    \n",
    "        self.embeddings = embeddings\n",
    "        self.MLP = nn.Sequential()\n",
    "\n",
    "        input_size = latent_size + attribute_size\n",
    "\n",
    "        for i, (in_size, out_size) in enumerate( zip([input_size]+layer_sizes[:-1], layer_sizes)):\n",
    "            self.MLP.add_module(name=\"L%i\"%(i), module=nn.Linear(in_size, out_size))\n",
    "            if i+1 < len(layer_sizes):\n",
    "                self.MLP.add_module(name=\"A%i\"%(i), module=nn.ReLU())\n",
    "#                 self.MLP.add_module(name=\"BN%i\"%(i), module=nn.BatchNorm1d(out_size))\n",
    "            else:\n",
    "                pass\n",
    "\n",
    "    def forward(self, z, c):\n",
    "        \n",
    "        a = self.embeddings(c.view(-1))\n",
    "        z = torch.cat((z, a), dim=-1)\n",
    "\n",
    "        x = self.MLP(z)\n",
    "\n",
    "        return x\n",
    "    \n",
    "class Regressor(nn.Module):\n",
    "\n",
    "    def __init__(self, layer_sizes, attributes):\n",
    "\n",
    "        super().__init__()\n",
    "\n",
    "        self.num_labels = attributes.shape[0]\n",
    "        self.attribute_size = attributes.shape[1]\n",
    "        self.attributes = to_var(torch.FloatTensor(attributes))\n",
    "        self.attributes = self.attributes.view((1, self.num_labels, self.attribute_size))\n",
    "        \n",
    "        self.MLP = nn.Sequential()\n",
    "        i=0\n",
    "        for i, (in_size, out_size) in enumerate( zip(layer_sizes[:-1], layer_sizes[1:]) ):\n",
    "            self.MLP.add_module(name=\"L%i\"%(i), module=nn.Linear(in_size, out_size))\n",
    "            self.MLP.add_module(name=\"A%i\"%(i), module=nn.ReLU())\n",
    "#             self.MLP.add_module(name=\"BN%i\"%(i), module=nn.BatchNorm1d(out_size))\n",
    "\n",
    "        self.MLP.add_module(name=\"L%i\"%(i+1), module=nn.Linear(layer_sizes[-1], self.attribute_size))\n",
    "\n",
    "    def forward(self, x):\n",
    "\n",
    "        a = self.MLP(x)\n",
    "        # Reshape predicted attribute because broadcasting is not supported\n",
    "        # a has shape               batch_size x   1 x 312\n",
    "        # attributes have shape:             1 x 200 x 312\n",
    "        a = a.view((-1, 1, self.attribute_size))\n",
    "        # logits of shape:          batch_size x 200\n",
    "        logits = nn.CosineSimilarity(dim=2, eps=1e-6)(a, self.attributes)\n",
    "        # log of predictions shape: batch_size x 200\n",
    "        c_hat = F.log_softmax(logits, dim=-1)\n",
    "        return c_hat"
   ]
  },
  {
   "cell_type": "code",
   "execution_count": 8,
   "metadata": {},
   "outputs": [],
   "source": [
    "data = CUB_data('../../../Downloads/xlsa17/data/CUB/att_splits.mat', '../../../Downloads/xlsa17/data/CUB/res101.mat')"
   ]
  },
  {
   "cell_type": "code",
   "execution_count": 9,
   "metadata": {},
   "outputs": [],
   "source": [
    "model = VAE([2048, 512, 512], 78, [512, 2048], [2048, 512], data.class_attributes).to(device)"
   ]
  },
  {
   "cell_type": "code",
   "execution_count": 10,
   "metadata": {},
   "outputs": [
    {
     "data": {
      "text/plain": [
       "VAE(\n",
       "  (embeddings): Embedding(200, 312)\n",
       "  (encoder): Encoder(\n",
       "    (MLP): Sequential(\n",
       "      (L0): Linear(in_features=2048, out_features=512, bias=True)\n",
       "      (A0): ReLU()\n",
       "      (L1): Linear(in_features=512, out_features=512, bias=True)\n",
       "      (A1): ReLU()\n",
       "    )\n",
       "    (linear_means): Linear(in_features=512, out_features=78, bias=True)\n",
       "    (linear_var): Linear(in_features=512, out_features=78, bias=True)\n",
       "  )\n",
       "  (decoder): Decoder(\n",
       "    (embeddings): Embedding(200, 312)\n",
       "    (MLP): Sequential(\n",
       "      (L0): Linear(in_features=390, out_features=512, bias=True)\n",
       "      (A0): ReLU()\n",
       "      (L1): Linear(in_features=512, out_features=2048, bias=True)\n",
       "    )\n",
       "  )\n",
       "  (regressor): Regressor(\n",
       "    (MLP): Sequential(\n",
       "      (L0): Linear(in_features=2048, out_features=512, bias=True)\n",
       "      (A0): ReLU()\n",
       "      (L1): Linear(in_features=512, out_features=312, bias=True)\n",
       "    )\n",
       "  )\n",
       ")"
      ]
     },
     "execution_count": 10,
     "metadata": {},
     "output_type": "execute_result"
    }
   ],
   "source": [
    "model"
   ]
  },
  {
   "cell_type": "code",
   "execution_count": 11,
   "metadata": {},
   "outputs": [],
   "source": [
    "X_train, c_train = data.sets['trainval_X'], data.sets['trainval_a']"
   ]
  },
  {
   "cell_type": "code",
   "execution_count": 12,
   "metadata": {},
   "outputs": [],
   "source": [
    "def train_vae(optimizer, epoch):\n",
    "    batch_size = 128\n",
    "    n = len(X_train)\n",
    "    model.train()\n",
    "    \n",
    "    beta = 1 * epoch/40\n",
    "#     beta = 1\n",
    "    \n",
    "    avg_loss = 0\n",
    "    for i in tqdm(range(0,n, batch_size)):\n",
    "        x, c = X_train[i:i+batch_size], c_train[i:i+batch_size]\n",
    "        x, c = torch.FloatTensor(x).to(device), torch.LongTensor(c).to(device)\n",
    "        recon_loss, kl_loss  = model.forward(x,c)\n",
    "        loss = recon_loss + beta*kl_loss\n",
    "        \n",
    "        avg_loss += loss.item()\n",
    "        loss.backward()\n",
    "\n",
    "        optimizer.step()\n",
    "        optimizer.zero_grad()\n",
    "    \n",
    "    avg_loss /= n\n",
    "    return avg_loss\n",
    "\n",
    "def validate_vae():\n",
    "    model.eval()\n",
    "    batch_size = 32\n",
    "    n = len(X_val)\n",
    "    avg_loss = 0\n",
    "    for i in range(0,n, batch_size):\n",
    "        x, c = X_val[i:i+batch_size], c_val[i:i+batch_size]\n",
    "        x, c = torch.FloatTensor(x).to(device), torch.LongTensor(c).to(device)\n",
    "        recon_loss, kl_loss  = model.forward(x,c)\n",
    "        loss = recon_loss + kl_loss\n",
    "        \n",
    "        avg_loss += loss.item()\n",
    "        \n",
    "    avg_loss /= n\n",
    "    return avg_loss"
   ]
  },
  {
   "cell_type": "markdown",
   "metadata": {},
   "source": [
    "One batch takes 22 ms on cpu, whereas 3 ms on gpu"
   ]
  },
  {
   "cell_type": "code",
   "execution_count": 13,
   "metadata": {},
   "outputs": [],
   "source": [
    "def alternating_training(optimizer_R, optimizer_V, epoch, total_epoch):\n",
    "    lambda_r = 0.1\n",
    "    lambda_c = 0.1\n",
    "    lambda_reg = 0.1\n",
    "    lambda_e = 0.1\n",
    "\n",
    "    batch_size = 128\n",
    "    n = len(X_train)\n",
    "    n = n - (n % batch_size)\n",
    "    model.train()\n",
    "\n",
    "    avg_R_loss = 0\n",
    "    avg_V_loss = 0\n",
    "    \n",
    "    beta = 1\n",
    "    \n",
    "    for i in range(0,n, batch_size):\n",
    "        x, c = X_train[i:i+batch_size], c_train[i:i+batch_size]\n",
    "        x, c = torch.FloatTensor(x).to(device), torch.LongTensor(c).to(device)\n",
    "\n",
    "        \"\"\" Update regressor, eq. 3 \"\"\"\n",
    "        c_real  = model.regressor.forward(x)\n",
    "\n",
    "        z_gen, c_gen = model.sample_z_prior(batch_size) , model.sample_c_prior(batch_size)\n",
    "        x_gen = model.decoder.forward(z_gen, c_gen)\n",
    "        c_fake  = model.regressor.forward(x_gen)\n",
    "\n",
    "        loss_s = F.cross_entropy(c_real, c.view(-1), size_average=False)\n",
    "        loss_u = F.cross_entropy(c_fake, c_gen.view(-1), size_average=False)\n",
    "        loss_R = loss_s + lambda_r*loss_u\n",
    "\n",
    "        loss_R.backward()\n",
    "        optimizer_R.step()\n",
    "        optimizer_R.zero_grad()\n",
    "        avg_R_loss += loss_R.item()\n",
    "\n",
    "    for i in tqdm(range(0,n, batch_size)):\n",
    "        x, c = X_train[i:i+batch_size], c_train[i:i+batch_size]\n",
    "        x, c = torch.FloatTensor(x).to(device), torch.LongTensor(c).to(device)\n",
    "\n",
    "        \"\"\" Update vae, eq. 8 \"\"\"\n",
    "        means, log_var = model.encoder.forward(x)\n",
    "        z = model.sample_z(means, log_var)\n",
    "        x_hat = model.decoder.forward(z, c)\n",
    "\n",
    "        mu, logvar = model.encoder.forward(x_hat)\n",
    "        z_hat = model.sample_z(mu, logvar)\n",
    "        c_hat = model.regressor.forward(x_hat)\n",
    "\n",
    "        z_gen2 = model.sample_z_prior(batch_size)\n",
    "        x_gen2 = model.decoder.forward(z_gen2, c)\n",
    "\n",
    "        loss_vae = F.l1_loss(x_hat, x, size_average=False) + \\\n",
    "                    beta*torch.sum(0.5 * torch.sum(torch.exp(log_var) + means**2 - 1 - log_var, 1))\n",
    "\n",
    "        loss_c = F.cross_entropy(c_hat, c.view(-1), size_average=False)\n",
    "\n",
    "        loss_reg = F.l1_loss(x_gen2, x_hat, size_average=False)\n",
    "\n",
    "        loss_e = F.mse_loss(z_gen2, z, size_average=False)\n",
    "\n",
    "        loss_V = loss_vae + lambda_c*loss_c + lambda_reg*loss_reg + lambda_e*loss_e\n",
    "\n",
    "        loss_V.backward()\n",
    "        optimizer_V.step()\n",
    "        optimizer_V.zero_grad()\n",
    "\n",
    "        avg_V_loss += loss_V.item()\n",
    "    \n",
    "    avg_R_loss /= n\n",
    "    avg_V_loss /= n\n",
    "    return avg_R_loss, avg_V_loss\n",
    "\n",
    "def alternating_validation():\n",
    "\n",
    "    lambda_r = 0.1\n",
    "    lambda_c = 0.1\n",
    "    lambda_reg = 0.1\n",
    "    lambda_e = 0.1\n",
    "\n",
    "    batch_size = 128\n",
    "    n = len(X_val)\n",
    "    n = n - (n % batch_size)\n",
    "    model.eval()\n",
    "\n",
    "    avg_R_loss = 0\n",
    "    avg_V_loss = 0\n",
    "    \n",
    "    for i in range(0,n, batch_size):\n",
    "        x, c = X_val[i:i+batch_size], c_val[i:i+batch_size]\n",
    "        x, c = torch.FloatTensor(x).to(device), torch.LongTensor(c).to(device)\n",
    "\n",
    "        \"\"\" Obtain regressor loss, eq. 3 \"\"\"\n",
    "        c_real  = model.regressor.forward(x)\n",
    "\n",
    "        z_gen, c_gen = model.sample_z_prior(batch_size) , model.sample_c_prior(batch_size)\n",
    "        x_gen = model.decoder.forward(z_gen, c_gen)\n",
    "        c_fake  = model.regressor.forward(x_gen)\n",
    "\n",
    "        loss_s = F.cross_entropy(c_real, c.view(-1))\n",
    "        loss_u = F.cross_entropy(c_fake, c_gen.view(-1))\n",
    "        loss_R = loss_s + lambda_r*loss_u\n",
    "\n",
    "\n",
    "        \"\"\" Obtain vae loss, eq. 8 \"\"\"\n",
    "        means, log_var = model.encoder.forward(x)\n",
    "        z = model.sample_z(means, log_var)\n",
    "        x_hat = model.decoder.forward(z, c)\n",
    "\n",
    "        mu, logvar = model.encoder.forward(x_hat)\n",
    "        z_hat = model.sample_z(mu, logvar)\n",
    "        c_hat = model.regressor.forward(x_hat)\n",
    "\n",
    "        z_gen2 = model.sample_z_prior(batch_size)\n",
    "        x_gen2 = model.decoder.forward(z_gen2, c)\n",
    "\n",
    "        loss_vae = F.l1_loss(x_hat, x, size_average=True) + \\\n",
    "                    torch.mean(0.5 * torch.sum(torch.exp(log_var) + means**2 - 1 - log_var, 1))\n",
    "\n",
    "        loss_c = F.cross_entropy(c_hat, c.view(-1))\n",
    "\n",
    "        loss_reg = F.l1_loss(x_gen2, x_hat, size_average=True)\n",
    "\n",
    "        loss_e = F.mse_loss(z_gen2, z, size_average=True)\n",
    "\n",
    "        loss_V = loss_vae + lambda_c*loss_c + lambda_reg*loss_reg + lambda_e*loss_e\n",
    "\n",
    "        avg_R_loss += loss_R.data.numpy().reshape(1)[0]\n",
    "        avg_V_loss += loss_V.data.numpy().reshape(1)[0]\n",
    "    \n",
    "    avg_R_loss /= n\n",
    "    avg_V_loss /= n\n",
    "    return avg_R_loss, avg_V_loss"
   ]
  },
  {
   "cell_type": "markdown",
   "metadata": {},
   "source": [
    "One batch takes 37 ms on cpu"
   ]
  },
  {
   "cell_type": "code",
   "execution_count": 14,
   "metadata": {},
   "outputs": [],
   "source": [
    "lr = 0.001\n",
    "optimizer_R = optim.Adam(model.regressor_params, lr=lr)\n",
    "optimizer_V = optim.Adam(model.vae_params, lr=0.001)"
   ]
  },
  {
   "cell_type": "code",
   "execution_count": 15,
   "metadata": {},
   "outputs": [
    {
     "name": "stderr",
     "output_type": "stream",
     "text": [
      "100%|██████████| 56/56 [01:34<00:00,  1.69s/it]\n",
      "100%|██████████| 56/56 [01:24<00:00,  1.51s/it]\n",
      "100%|██████████| 56/56 [01:10<00:00,  1.25s/it]\n",
      "100%|██████████| 56/56 [01:00<00:00,  1.08s/it]\n",
      "100%|██████████| 56/56 [00:49<00:00,  1.13it/s]\n",
      "100%|██████████| 56/56 [01:17<00:00,  1.39s/it]\n",
      "100%|██████████| 56/56 [00:43<00:00,  1.29it/s]\n",
      "100%|██████████| 56/56 [01:09<00:00,  1.25s/it]\n",
      "100%|██████████| 56/56 [01:01<00:00,  1.09s/it]\n",
      "100%|██████████| 56/56 [00:52<00:00,  1.07it/s]\n",
      "100%|██████████| 56/56 [01:16<00:00,  1.37s/it]\n",
      "100%|██████████| 56/56 [01:00<00:00,  1.09s/it]\n",
      "100%|██████████| 56/56 [01:05<00:00,  1.16s/it]\n",
      "100%|██████████| 56/56 [00:56<00:00,  1.02s/it]\n",
      "100%|██████████| 56/56 [00:50<00:00,  1.11it/s]\n",
      "100%|██████████| 56/56 [00:49<00:00,  1.13it/s]\n",
      "100%|██████████| 56/56 [00:58<00:00,  1.05s/it]\n",
      "100%|██████████| 56/56 [01:07<00:00,  1.20s/it]\n",
      "100%|██████████| 56/56 [00:50<00:00,  1.11it/s]\n",
      "100%|██████████| 56/56 [01:17<00:00,  1.38s/it]\n",
      "100%|██████████| 56/56 [00:32<00:00,  1.74it/s]\n",
      "100%|██████████| 56/56 [01:14<00:00,  1.33s/it]\n",
      "100%|██████████| 56/56 [00:30<00:00,  1.87it/s]\n",
      "100%|██████████| 56/56 [01:04<00:00,  1.15s/it]\n",
      "100%|██████████| 56/56 [00:44<00:00,  1.25it/s]\n",
      "100%|██████████| 56/56 [01:13<00:00,  1.31s/it]\n",
      "100%|██████████| 56/56 [00:37<00:00,  1.50it/s]\n",
      "100%|██████████| 56/56 [01:09<00:00,  1.24s/it]\n",
      "100%|██████████| 56/56 [00:39<00:00,  1.44it/s]\n",
      "100%|██████████| 56/56 [01:17<00:00,  1.38s/it]\n",
      "100%|██████████| 56/56 [00:44<00:00,  1.27it/s]\n",
      "100%|██████████| 56/56 [01:11<00:00,  1.28s/it]\n",
      "100%|██████████| 56/56 [00:44<00:00,  1.26it/s]\n",
      "100%|██████████| 56/56 [01:06<00:00,  1.19s/it]\n",
      "100%|██████████| 56/56 [00:50<00:00,  1.10it/s]\n",
      "100%|██████████| 56/56 [01:02<00:00,  1.11s/it]\n",
      "100%|██████████| 56/56 [00:52<00:00,  1.07it/s]\n",
      "100%|██████████| 56/56 [00:58<00:00,  1.05s/it]\n",
      "100%|██████████| 56/56 [00:52<00:00,  1.06it/s]\n",
      "100%|██████████| 56/56 [00:55<00:00,  1.01it/s]\n"
     ]
    }
   ],
   "source": [
    "df = pd.DataFrame([[np.NaN]], columns=['loss'])\n",
    "total_epochs = 40\n",
    "for epoch in range(total_epochs):\n",
    "    res = {}\n",
    "    res['loss'] = train_vae(optimizer_V, epoch)\n",
    "#     res['val_loss'] = validate_vae()\n",
    "    df = df.append(pd.Series(res), ignore_index=True)\n",
    "    df.to_csv('vae_train_29.csv')"
   ]
  },
  {
   "cell_type": "code",
   "execution_count": 17,
   "metadata": {},
   "outputs": [],
   "source": [
    "lr = 0.0001\n",
    "for param_group in optimizer_R.param_groups:\n",
    "        param_group['lr'] = lr*10\n",
    "        \n",
    "for param_group in optimizer_V.param_groups:\n",
    "        param_group['lr'] = lr"
   ]
  },
  {
   "cell_type": "code",
   "execution_count": 18,
   "metadata": {},
   "outputs": [
    {
     "name": "stderr",
     "output_type": "stream",
     "text": [
      "100%|██████████| 56/56 [00:09<00:00,  5.73it/s]\n",
      "100%|██████████| 56/56 [00:10<00:00,  5.38it/s]\n",
      "100%|██████████| 56/56 [00:09<00:00,  5.75it/s]\n",
      "100%|██████████| 56/56 [00:10<00:00,  5.30it/s]\n",
      "100%|██████████| 56/56 [00:11<00:00,  5.00it/s]\n",
      "100%|██████████| 56/56 [00:08<00:00,  6.53it/s]\n",
      "100%|██████████| 56/56 [00:10<00:00,  5.51it/s]\n",
      "100%|██████████| 56/56 [00:11<00:00,  4.80it/s]\n",
      "100%|██████████| 56/56 [00:11<00:00,  4.68it/s]\n",
      "100%|██████████| 56/56 [00:09<00:00,  5.81it/s]\n"
     ]
    }
   ],
   "source": [
    "total_epochs = 10\n",
    "for epoch in range(total_epochs):\n",
    "    res = {}\n",
    "    res['loss'] = train_vae(optimizer_V, epoch)\n",
    "#     res['val_loss'] = validate_vae()\n",
    "    df = df.append(pd.Series(res), ignore_index=True)\n",
    "    df.to_csv('vae_train_28.csv')"
   ]
  },
  {
   "cell_type": "code",
   "execution_count": 16,
   "metadata": {},
   "outputs": [
    {
     "data": {
      "text/plain": [
       "<matplotlib.axes._subplots.AxesSubplot at 0x7fb1b1308da0>"
      ]
     },
     "execution_count": 16,
     "metadata": {},
     "output_type": "execute_result"
    },
    {
     "data": {
      "image/png": "[encoded data removed]",
      "text/plain": [
       "<Figure size 432x288 with 1 Axes>"
      ]
     },
     "metadata": {},
     "output_type": "display_data"
    }
   ],
   "source": [
    "df.iloc[1:].plot()"
   ]
  },
  {
   "cell_type": "code",
   "execution_count": 16,
   "metadata": {},
   "outputs": [],
   "source": [
    "lr = 0.0001\n",
    "for param_group in optimizer_R.param_groups:\n",
    "        param_group['lr'] = lr*10\n",
    "        \n",
    "for param_group in optimizer_V.param_groups:\n",
    "        param_group['lr'] = lr"
   ]
  },
  {
   "cell_type": "code",
   "execution_count": 17,
   "metadata": {},
   "outputs": [
    {
     "name": "stderr",
     "output_type": "stream",
     "text": [
      "100%|██████████| 55/55 [03:15<00:00,  3.56s/it]\n",
      "100%|██████████| 55/55 [02:57<00:00,  3.23s/it]\n",
      "100%|██████████| 55/55 [02:44<00:00,  2.98s/it]\n",
      "100%|██████████| 55/55 [02:38<00:00,  2.88s/it]\n",
      "100%|██████████| 55/55 [02:41<00:00,  2.94s/it]\n",
      "100%|██████████| 55/55 [02:32<00:00,  2.78s/it]\n",
      "100%|██████████| 55/55 [02:30<00:00,  2.73s/it]\n",
      "100%|██████████| 55/55 [02:07<00:00,  2.32s/it]\n",
      "100%|██████████| 55/55 [02:20<00:00,  2.55s/it]\n",
      "100%|██████████| 55/55 [02:25<00:00,  2.65s/it]\n",
      "100%|██████████| 55/55 [02:34<00:00,  2.80s/it]\n",
      "100%|██████████| 55/55 [02:27<00:00,  2.68s/it]\n",
      "100%|██████████| 55/55 [02:20<00:00,  2.55s/it]\n",
      "100%|██████████| 55/55 [02:24<00:00,  2.63s/it]\n",
      "100%|██████████| 55/55 [02:25<00:00,  2.65s/it]\n",
      "100%|██████████| 55/55 [01:40<00:00,  1.83s/it]\n",
      "100%|██████████| 55/55 [01:43<00:00,  1.88s/it]\n",
      "100%|██████████| 55/55 [02:07<00:00,  2.31s/it]\n",
      "100%|██████████| 55/55 [02:08<00:00,  2.34s/it]\n",
      "100%|██████████| 55/55 [02:18<00:00,  2.52s/it]\n",
      "100%|██████████| 55/55 [02:35<00:00,  2.82s/it]\n",
      "100%|██████████| 55/55 [03:10<00:00,  3.46s/it]\n",
      "100%|██████████| 55/55 [02:42<00:00,  2.95s/it]\n",
      "100%|██████████| 55/55 [01:44<00:00,  1.89s/it]\n",
      "100%|██████████| 55/55 [01:41<00:00,  1.85s/it]\n",
      "100%|██████████| 55/55 [01:57<00:00,  2.13s/it]\n",
      "100%|██████████| 55/55 [02:11<00:00,  2.40s/it]\n",
      "100%|██████████| 55/55 [02:56<00:00,  3.22s/it]\n",
      "100%|██████████| 55/55 [02:18<00:00,  2.52s/it]\n",
      "100%|██████████| 55/55 [02:29<00:00,  2.73s/it]\n",
      "100%|██████████| 55/55 [03:06<00:00,  3.39s/it]\n",
      "100%|██████████| 55/55 [02:05<00:00,  2.28s/it]\n",
      "100%|██████████| 55/55 [02:20<00:00,  2.56s/it]\n",
      "100%|██████████| 55/55 [02:15<00:00,  2.47s/it]\n",
      "100%|██████████| 55/55 [02:23<00:00,  2.61s/it]\n",
      "100%|██████████| 55/55 [02:27<00:00,  2.68s/it]\n",
      "100%|██████████| 55/55 [02:23<00:00,  2.61s/it]\n",
      "100%|██████████| 55/55 [02:26<00:00,  2.66s/it]\n",
      "100%|██████████| 55/55 [02:15<00:00,  2.46s/it]\n",
      "100%|██████████| 55/55 [02:07<00:00,  2.32s/it]\n"
     ]
    }
   ],
   "source": [
    "df = pd.DataFrame([[np.NaN,np.NaN]], columns=['r_loss', 'v_loss'])\n",
    "for epoch in range(40):\n",
    "    res = {}\n",
    "    res['r_loss'], res['v_loss'] = alternating_training(optimizer_R, optimizer_V, epoch, 20)\n",
    "#     res['val_r_loss'], res['val_v_loss'] = alternating_validation()\n",
    "    df = df.append(pd.Series(res), ignore_index=True)\n",
    "    df.to_csv('vae_train_29_1.csv')"
   ]
  },
  {
   "cell_type": "code",
   "execution_count": 18,
   "metadata": {},
   "outputs": [
    {
     "data": {
      "text/plain": [
       "<matplotlib.axes._subplots.AxesSubplot at 0x7f1b7941f1d0>"
      ]
     },
     "execution_count": 18,
     "metadata": {},
     "output_type": "execute_result"
    },
    {
     "data": {
      "image/png": "[encoded data removed]",
      "text/plain": [
       "<Figure size 432x288 with 1 Axes>"
      ]
     },
     "metadata": {},
     "output_type": "display_data"
    }
   ],
   "source": [
    "df.iloc[:].plot()"
   ]
  },
  {
   "cell_type": "markdown",
   "metadata": {},
   "source": [
    "##### model weights: vae_10_10.pt (10 10 epochs)  32% acc on training data using generated data\n",
    "##### vae_2_20_5.pt  (2 20 5 epochs) 5 at 0.0001 lr  39.25% acc  s2t 67.7%  u2t 2.32%\n",
    "##### vae_l1_2_10_5.pt (2 10 5 epochs) l1_loss instead of mse_loss for reconstructed input  37.22% acc, s2t acc 68.25% u2t 5.8%\n",
    "##### vae_cos_1_10_5.pt (1 10 5 epochs) negative cosine similarity 14.02% acc\n",
    "##### vae_l1_2_1_10_10.pt (1 10 10 epochs) l1 for recon_loss with proper alternating training  ss2t acc 68.36% u2t 3.77%\n",
    "##### class_weights were incorrect. Calculating accuracy again\n",
    "##### vae_relu_l1_2_10_10.pt (2 10 10 epochs) replaced tanh with relu, using trainval_loc (150 seen classes instead of 100) 44.29% acc (batch_size 40)  52% acc (batch size 200). There are two parameters of SVM: fit_intercept and class_weight. Removing class_weight increases unseen accuracy to 12%\n",
    "\n",
    "##### vae_relu_l1_2_2_10_10.pt Increasing batch size from 32 to 128. 45.8% acc (trainval) 38.49% (test_seen) 17% (test_unseen)\n",
    "##### vae_relu_l1_logsig_2_10_10.pt Changed log_softmax to logsigmoid in regressor. 46.9% (trainval) 39.45% (test seen) 15% (test unseen)\n",
    "##### vae_relu_l1_3_2_10_10.pt Increasing batch size from 128 to 200. 40% (trainval) 34% (test seen) 17% (test unseen)\n",
    "##### vae_relu_l1_4_2_10.pt batch size 128. latent size 4 48.91% (trainval) 41.32% (test seen) 15.63% (test unseen)\n",
    "##### vae_relu_l1_5_1_10.pt batch size 128. latent size 2 43.03% (trainval) 37.13% (test seen) 15.8% (test unseen)\n",
    "##### vae_relu_l1_6_1_10_10.pt lr 10 0.01 then 0.01 latent size 2 0.6% (trainval) 0.8% (test seen) 0% (test unseen)\n",
    "##### vae_relu_l1_7_2_10.pt lr 0.001 then 0.0001 latent size 2 lambda(s)=0.5  42.6% (trainval) 33.9% (test seen) 14.49% (test unseen)\n",
    "##### vae_relu_l1_softplus_2_10.pt 47.9% (trainval) 40.6% (test seen) 15.3% (test unseen)\n",
    "##### vae_relu_l1_bn_softplus_2_10.pt  0.11% (trainval) 0.17% (test seen) 1% (test unseen)\n",
    "##### vae_relu_l1_bn_softplus_10_10.pt  gradually increasing kl_loss\n",
    "##### vae_relu_l1_bn_softplus_100_10.pt  gradually increasing kl_loss at lr 0.0001\n",
    "##### vae_relu_l1_bn_softplus_4e-1_100_10.pt beta is 0.4 instead of 1 (previously)\n",
    "##### vae_relu_l1_bn_softplus_4e-1_100_10_2.pt latent size back to 64 1.1% (trainval) 1.1% (test seen) 0.2% (test unseen)\n",
    "##### vae_relu_l1_bn_softplus_4e-1_5_10_3.pt batchnorm affine=False 0.53% (trainval) 0.39% (test seen) 0.13% (test unseen)\n",
    "##### vae_lrelu_l1_softplus_4e-1_80_10_4.pt removed batch_norm  still very less acc\n",
    "##### vae_l1_softplus_20_10_1.pt lrelu, relu, softplus 2 layers everywhere\n",
    "##### vae_l1_softplus_20_20_2.pt gradually increasing all losses  10% (test seen) 0% (test unseen)\n",
    "##### vae_l1_softplus_20_20_20_20.pt gradually increasing all losses then again restarting\n",
    "##### vae_l1_softplus_20_20_20_20_2.pt completely removing batch norm increasing e and c loss while decreasing kl loss\n",
    "##### vae_l1_softplus_20_20_20_20_3.pt training the vae without kl loss for first 20 epochs.\n",
    "##### vae_small_2_10 relu 1 hidden layer encoder, total 1 layer for decoder and regressor\n",
    "##### vae_small_70 2 hidden layer 70 epochs at 0.0001 lr 8% (test unseen)\n",
    "##### vae_small_relu_bn 2 hidden layer 30 epoch 0.28% (test seen) 0.03% (test unseen)\n",
    "##### vae_relu_10_10  10 epoch at 0.001 lr and 10 epoch at 0.0001 lr (seems to converge) log of softplus of var 32.9% (trainval) 29.7% (test seen) 17.29% (test unseen)\n",
    "##### vae_relu_10_10_20 40% (trainval) 35% (test seen) 20% (test unseen)  47.9% (u->u)\n",
    "##### vae_relu_wu 35.35% (u->u)"
   ]
  },
  {
   "cell_type": "code",
   "execution_count": 17,
   "metadata": {},
   "outputs": [],
   "source": [
    "torch.save(model.state_dict(), 'weights/vae_relu_wu_40_20.pt')"
   ]
  },
  {
   "cell_type": "code",
   "execution_count": 15,
   "metadata": {},
   "outputs": [],
   "source": [
    "model.load_state_dict(torch.load('weights/vae_relu_wu.pt'))"
   ]
  },
  {
   "cell_type": "code",
   "execution_count": 15,
   "metadata": {},
   "outputs": [
    {
     "data": {
      "text/plain": [
       "<matplotlib.axes._subplots.AxesSubplot at 0x7f9329c2bb70>"
      ]
     },
     "execution_count": 15,
     "metadata": {},
     "output_type": "execute_result"
    },
    {
     "data": {
      "image/png": "[encoded data removed]",
      "text/plain": [
       "<Figure size 432x288 with 1 Axes>"
      ]
     },
     "metadata": {},
     "output_type": "display_data"
    }
   ],
   "source": [
    "df.iloc[1:].plot()"
   ]
  },
  {
   "cell_type": "code",
   "execution_count": 26,
   "metadata": {},
   "outputs": [
    {
     "data": {
      "text/plain": [
       "<matplotlib.axes._subplots.AxesSubplot at 0x7f9180178f98>"
      ]
     },
     "execution_count": 26,
     "metadata": {},
     "output_type": "execute_result"
    },
    {
     "data": {
      "image/png": "[encoded data removed]",
      "text/plain": [
       "<Figure size 432x288 with 1 Axes>"
      ]
     },
     "metadata": {},
     "output_type": "display_data"
    }
   ],
   "source": [
    "df.iloc[:].plot()"
   ]
  },
  {
   "cell_type": "code",
   "execution_count": null,
   "metadata": {},
   "outputs": [],
   "source": [
    "df = pd.read_csv('vae_train_70.csv', index_col=0)"
   ]
  },
  {
   "cell_type": "code",
   "execution_count": null,
   "metadata": {},
   "outputs": [],
   "source": []
  }
 ],
 "metadata": {
  "kernelspec": {
   "display_name": "TorchKernel",
   "language": "python",
   "name": "pyt"
  },
  "language_info": {
   "codemirror_mode": {
    "name": "ipython",
    "version": 3
   },
   "file_extension": ".py",
   "mimetype": "text/x-python",
   "name": "python",
   "nbconvert_exporter": "python",
   "pygments_lexer": "ipython3",
   "version": "3.6.2"
  }
 },
 "nbformat": 4,
 "nbformat_minor": 2
}
