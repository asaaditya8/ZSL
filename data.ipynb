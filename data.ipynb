{
 "cells": [
  {
   "cell_type": "code",
   "execution_count": 1,
   "metadata": {},
   "outputs": [],
   "source": [
    "import os\n",
    "import numpy as np\n",
    "import matplotlib.pyplot as plt\n",
    "from PIL import Image "
   ]
  },
  {
   "cell_type": "code",
   "execution_count": 2,
   "metadata": {},
   "outputs": [],
   "source": [
    "def open_pil_image(path):\n",
    "    return Image.open(path)"
   ]
  },
  {
   "cell_type": "code",
   "execution_count": 3,
   "metadata": {},
   "outputs": [],
   "source": [
    "def open_image(path):\n",
    "    return np.array(Image.open(path), dtype='float32')"
   ]
  },
  {
   "cell_type": "code",
   "execution_count": 4,
   "metadata": {},
   "outputs": [],
   "source": [
    "def resize_pil_image(Img, size):\n",
    "    return Img.resize(size, Image.ANTIALIAS)"
   ]
  },
  {
   "cell_type": "code",
   "execution_count": 5,
   "metadata": {},
   "outputs": [],
   "source": [
    "def resize_image(img, size):\n",
    "    return np.array(resize_pil_image(Image.fromarray(img.astype('uint8')), size), dtype='float32')"
   ]
  },
  {
   "cell_type": "code",
   "execution_count": 6,
   "metadata": {},
   "outputs": [],
   "source": [
    "def rescale_pil_image(Img, size):\n",
    "    W, H = size\n",
    "    w, h = Img.size\n",
    "    factor = np.min([W/w, H/h])\n",
    "    nw = int(w*factor)\n",
    "    nh = int(h*factor)\n",
    "    return resize_pil_image(Img, (nw,nh))"
   ]
  },
  {
   "cell_type": "code",
   "execution_count": 7,
   "metadata": {},
   "outputs": [],
   "source": [
    "def rescale_image(img, size):\n",
    "    return np.array(rescale_pil_image(Image.fromarray(img.astype('uint8')), size), dtype='float32')"
   ]
  },
  {
   "cell_type": "code",
   "execution_count": 8,
   "metadata": {},
   "outputs": [],
   "source": [
    "def pad_image(img, size):\n",
    "    wp, hp = size\n",
    "    H, W = img.shape[:-1]\n",
    "    w = W + 2*wp\n",
    "    h = H + 2*hp\n",
    "    new_img = np.zeros((h,w,3), dtype='float32')\n",
    "    new_img[hp:h-hp, wp:w-wp, :] = img\n",
    "    return new_img"
   ]
  },
  {
   "cell_type": "code",
   "execution_count": 9,
   "metadata": {},
   "outputs": [],
   "source": [
    "def pad_pil_image(Img, size):\n",
    "    return Image.fromarray(pad_image(np.array(Img, dtype='float32'), size).astype('uint8'))"
   ]
  },
  {
   "cell_type": "code",
   "execution_count": 10,
   "metadata": {},
   "outputs": [],
   "source": [
    "def rescale_pad(img, size):\n",
    "    img = rescale_image(img, size)\n",
    "    W, H = size\n",
    "    h, w = img.shape[:-1]\n",
    "    return pad_image(img, ((W-w)//2, (H-h)//2))"
   ]
  },
  {
   "cell_type": "code",
   "execution_count": 11,
   "metadata": {},
   "outputs": [],
   "source": [
    "def rescale_pad_pil(Img, size):\n",
    "    return Image.fromarray(rescale_pad(np.array(Img, dtype='float32'), size).astype('uint8'))"
   ]
  },
  {
   "cell_type": "code",
   "execution_count": 12,
   "metadata": {},
   "outputs": [],
   "source": [
    "horse = open_image('../../../saliency/horse1.jpg')"
   ]
  },
  {
   "cell_type": "code",
   "execution_count": 22,
   "metadata": {},
   "outputs": [],
   "source": [
    "ni = rescale_pad_pil(horse, (416,416))"
   ]
  },
  {
   "cell_type": "code",
   "execution_count": 23,
   "metadata": {},
   "outputs": [],
   "source": [
    "ni.save('example_416.jpg')"
   ]
  },
  {
   "cell_type": "code",
   "execution_count": null,
   "metadata": {},
   "outputs": [],
   "source": [
    "def load_coco_data(path):"
   ]
  },
  {
   "cell_type": "code",
   "execution_count": null,
   "metadata": {},
   "outputs": [],
   "source": []
  }
 ],
 "metadata": {
  "kernelspec": {
   "display_name": "TorchKernel",
   "language": "python",
   "name": "pyt"
  },
  "language_info": {
   "codemirror_mode": {
    "name": "ipython",
    "version": 3
   },
   "file_extension": ".py",
   "mimetype": "text/x-python",
   "name": "python",
   "nbconvert_exporter": "python",
   "pygments_lexer": "ipython3",
   "version": "3.6.3"
  }
 },
 "nbformat": 4,
 "nbformat_minor": 2
}
